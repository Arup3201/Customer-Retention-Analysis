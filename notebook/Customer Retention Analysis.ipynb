{
 "cells": [
  {
   "cell_type": "markdown",
   "metadata": {},
   "source": [
    "# Customer Retention Analysis"
   ]
  },
  {
   "cell_type": "markdown",
   "metadata": {},
   "source": [
    "## Libraries"
   ]
  },
  {
   "cell_type": "code",
   "execution_count": null,
   "metadata": {},
   "outputs": [],
   "source": [
    "import numpy as np\n",
    "import pandas as pd\n",
    "import matplotlib as mpl\n",
    "import matplotlib.pyplot as plt\n",
    "import plotly.express as px\n",
    "\n",
    "from nb_pyscript.data import data_overview"
   ]
  },
  {
   "cell_type": "markdown",
   "metadata": {},
   "source": [
    "Basic settings of dataframe and plots"
   ]
  },
  {
   "cell_type": "code",
   "execution_count": 2,
   "metadata": {},
   "outputs": [],
   "source": [
    "# Pandas dataframes show all rows and columns without skiping\n",
    "pd.set_option('display.max_rows', None)\n",
    "pd.set_option('display.max_columns', None)\n",
    "\n",
    "# Matplotlib setting of figsize and dpi\n",
    "mpl.rcParams['figure.figsize'] = [16, 5]\n",
    "mpl.rcParams['figure.dpi'] = 200\n",
    "\n",
    "%matplotlib inline"
   ]
  },
  {
   "cell_type": "markdown",
   "metadata": {},
   "source": [
    "## Dataset"
   ]
  },
  {
   "cell_type": "code",
   "execution_count": 4,
   "metadata": {},
   "outputs": [],
   "source": [
    "data = pd.read_excel('./data/telco-customer-churn/telco_customer_churn.xlsx')"
   ]
  },
  {
   "cell_type": "markdown",
   "metadata": {},
   "source": [
    "## Data Exploration"
   ]
  },
  {
   "cell_type": "code",
   "execution_count": 5,
   "metadata": {},
   "outputs": [],
   "source": [
    "df = data.copy()"
   ]
  },
  {
   "cell_type": "code",
   "execution_count": 45,
   "metadata": {},
   "outputs": [
    {
     "name": "stdout",
     "output_type": "stream",
     "text": [
      "Overview of telco customer data:\n",
      "Entries in the dataset: 7043\n",
      "Features in the dataset: 33\n",
      "\n",
      "\n",
      "Faatures of the dataset:\n",
      " ['CustomerID', 'Count', 'Country', 'State', 'City', 'Zip Code', 'Lat Long', 'Latitude', 'Longitude', 'Gender', 'Senior Citizen', 'Partner', 'Dependents', 'Tenure Months', 'Phone Service', 'Multiple Lines', 'Internet Service', 'Online Security', 'Online Backup', 'Device Protection', 'Tech Support', 'Streaming TV', 'Streaming Movies', 'Contract', 'Paperless Billing', 'Payment Method', 'Monthly Charges', 'Total Charges', 'Churn Label', 'Churn Value', 'Churn Score', 'CLTV', 'Churn Reason']\n",
      "\n",
      "\n",
      "Missing Values:\n",
      "CustomerID                    : 0\n",
      "Count                         : 0\n",
      "Country                       : 0\n",
      "State                         : 0\n",
      "City                          : 0\n",
      "Zip Code                      : 0\n",
      "Lat Long                      : 0\n",
      "Latitude                      : 0\n",
      "Longitude                     : 0\n",
      "Gender                        : 0\n",
      "Senior Citizen                : 0\n",
      "Partner                       : 0\n",
      "Dependents                    : 0\n",
      "Tenure Months                 : 0\n",
      "Phone Service                 : 0\n",
      "Multiple Lines                : 0\n",
      "Internet Service              : 0\n",
      "Online Security               : 0\n",
      "Online Backup                 : 0\n",
      "Device Protection             : 0\n",
      "Tech Support                  : 0\n",
      "Streaming TV                  : 0\n",
      "Streaming Movies              : 0\n",
      "Contract                      : 0\n",
      "Paperless Billing             : 0\n",
      "Payment Method                : 0\n",
      "Monthly Charges               : 0\n",
      "Total Charges                 : 0\n",
      "Churn Label                   : 0\n",
      "Churn Value                   : 0\n",
      "Churn Score                   : 0\n",
      "CLTV                          : 0\n",
      "Churn Reason                  : 5174\n",
      "\n",
      "\n",
      "Unqiue Values:\n",
      "CustomerID                    : 7043\n",
      "Count                         : 1\n",
      "Country                       : 1\n",
      "State                         : 1\n",
      "City                          : 1129\n",
      "Zip Code                      : 1652\n",
      "Lat Long                      : 1652\n",
      "Latitude                      : 1652\n",
      "Longitude                     : 1651\n",
      "Gender                        : 2\n",
      "Senior Citizen                : 2\n",
      "Partner                       : 2\n",
      "Dependents                    : 2\n",
      "Tenure Months                 : 73\n",
      "Phone Service                 : 2\n",
      "Multiple Lines                : 3\n",
      "Internet Service              : 3\n",
      "Online Security               : 3\n",
      "Online Backup                 : 3\n",
      "Device Protection             : 3\n",
      "Tech Support                  : 3\n",
      "Streaming TV                  : 3\n",
      "Streaming Movies              : 3\n",
      "Contract                      : 3\n",
      "Paperless Billing             : 2\n",
      "Payment Method                : 4\n",
      "Monthly Charges               : 1585\n",
      "Total Charges                 : 6531\n",
      "Churn Label                   : 2\n",
      "Churn Value                   : 2\n",
      "Churn Score                   : 85\n",
      "CLTV                          : 3438\n",
      "Churn Reason                  : 20\n",
      "\n",
      "\n",
      "String type features: \n",
      "CustomerID\n",
      "Country\n",
      "State\n",
      "City\n",
      "Lat Long\n",
      "Gender\n",
      "Senior Citizen\n",
      "Partner\n",
      "Dependents\n",
      "Phone Service\n",
      "Multiple Lines\n",
      "Internet Service\n",
      "Online Security\n",
      "Online Backup\n",
      "Device Protection\n",
      "Tech Support\n",
      "Streaming TV\n",
      "Streaming Movies\n",
      "Contract\n",
      "Paperless Billing\n",
      "Payment Method\n",
      "Churn Label\n",
      "Churn Reason\n",
      "\n",
      "\n",
      "Numerical type features: \n",
      "Count\n",
      "Zip Code\n",
      "Latitude\n",
      "Longitude\n",
      "Tenure Months\n",
      "Monthly Charges\n",
      "Total Charges\n",
      "Churn Value\n",
      "Churn Score\n",
      "CLTV\n",
      "\n",
      "\n"
     ]
    }
   ],
   "source": [
    "data_overview(df, \"Overview of telco customer data:\")"
   ]
  },
  {
   "cell_type": "markdown",
   "metadata": {},
   "source": [
    "**About the dataset:**\n",
    "\n",
    "- Dataset contains 7043 entries and 33 features.\n",
    "\n",
    "- Features of the dataset are-\n",
    "    - `Customer ID`: ID of customers each are unique\n",
    "    - `Count`: Frequency of the customer in the table\n",
    "    - `Country`: Country of the customer\n",
    "    - `State`: State where customer lives\n",
    "    - `City`: City where customer resides(1129 unique city names)\n",
    "    - `Zip Code`: Zip code of the place\n",
    "    - `Lat Long`: Latitude and Longitude of the place\n",
    "    - `Latitude`: Latitude of the place\n",
    "    - `Longitude`: Longitude of the place\n",
    "    - `Gender`: Gender of the customer (Male or Female)\n",
    "    - `SeniorCitizen`: Indicates whether the client is an older person (0, 1).\n",
    "    - `Partner`: Indicates whether or not the client is partnered (Yes, No).\n",
    "    - `Dependents`: Indicates whether the client is supported by others (Yes, No).\n",
    "    - `Tenure Months`: The length of time a customer has been a customer of the business (multiple different number values)).\n",
    "    - `Phone Service`: If the client has a phone service, it is indicated by the words “Yes” or “No”.\n",
    "    - `Multiple Line`: Whether the customer has more than one line (no phone service, no service, yes service).\n",
    "    - `Internet Service`: Whether the client has a subscription to the company’s Internet service (DSL, Fiber optic, or No).\n",
    "    - `Online Security`: Indicates if the client has access to online security (Internet service available, No, Yes).\n",
    "    - `Online Backup`: Indicates whether or not the client has an online backup (Internet service unavailable, No, Yes).\n",
    "    - `Device Protection`: Indicates whether the client has device protection (Internet service not available, Not Available, Yes).\n",
    "    - `Tech Support`: Whether the customer has access to tech help (no internet service, no, yes).\n",
    "    - `Streaming TV`: Whether the customer has access (no internet service, no, yes).\n",
    "    - `Streaming Movies`: Streaming movies: Indicates whether or not the client offers or has access streaming movies(no internet service, no, yes).\n",
    "    - `Contract`: The type of existing contract for the customer (Month-to-Month, One-Year, Two-Year)\n",
    "    - `Paperless Billing`: Whether the client uses paperless billing (Yes, No)\n",
    "    - `PaymentMethod`: The chosen payment method by the consumer (credit card, bank transfer, electronic check, paper check)\n",
    "    - `Monthly Charges`: The monthly charge made to the consumer (various numeric quantities)\n",
    "    - `Total Charges`: (many different numeric values): The total amount charged to the consumer\n",
    "    - `Churn Label`: Whether the customer decided to leave the service or not ('yes' or 'no').\n",
    "    - `Churn Value`: 0 or 1 depending on the churn value as 'no' or 'yes'.\n",
    "    - `CLTV`: Customer Lifetime Value if they stayed in the company as a customer.\n",
    "    - `Churn Reason`: Churn Reason: Reason for the customer to choose to leave.sumer. No)."
   ]
  },
  {
   "cell_type": "code",
   "execution_count": null,
   "metadata": {},
   "outputs": [],
   "source": []
  }
 ],
 "metadata": {
  "kernelspec": {
   "display_name": "Python 3 (ipykernel)",
   "language": "python",
   "name": "python3"
  },
  "language_info": {
   "codemirror_mode": {
    "name": "ipython",
    "version": 3
   },
   "file_extension": ".py",
   "mimetype": "text/x-python",
   "name": "python",
   "nbconvert_exporter": "python",
   "pygments_lexer": "ipython3",
   "version": "3.8.8"
  }
 },
 "nbformat": 4,
 "nbformat_minor": 4
}
